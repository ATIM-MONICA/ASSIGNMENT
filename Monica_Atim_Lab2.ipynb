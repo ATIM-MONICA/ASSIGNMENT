{
  "nbformat": 4,
  "nbformat_minor": 0,
  "metadata": {
    "colab": {
      "provenance": [],
      "include_colab_link": true
    },
    "kernelspec": {
      "name": "python3",
      "display_name": "Python 3"
    },
    "language_info": {
      "name": "python"
    }
  },
  "cells": [
    {
      "cell_type": "markdown",
      "metadata": {
        "id": "view-in-github",
        "colab_type": "text"
      },
      "source": [
        "<a href=\"https://colab.research.google.com/github/ATIM-MONICA/ASSIGNMENT/blob/main/Monica_Atim_Lab2.ipynb\" target=\"_parent\"><img src=\"https://colab.research.google.com/assets/colab-badge.svg\" alt=\"Open In Colab\"/></a>"
      ]
    },
    {
      "cell_type": "markdown",
      "source": [
        "This lab consists of 5 questions that total up to 20 marks. You are to follow the instructions and prove that your solution works at the end of each question. You may include comments where necessary."
      ],
      "metadata": {
        "id": "CpyJhgvxezhm"
      }
    },
    {
      "cell_type": "code",
      "source": [
        "import math"
      ],
      "metadata": {
        "id": "_Klum8EWJ-sI"
      },
      "execution_count": 18,
      "outputs": []
    },
    {
      "cell_type": "markdown",
      "source": [
        "***Question 1:***\n",
        "Below is a snippet of code that calculates the force obtained by an object. The variables \"mass\" and \"acceleration\" are user inputs. Complete the source code. (2 Marks)"
      ],
      "metadata": {
        "id": "G5tT6TTkh-hK"
      }
    },
    {
      "cell_type": "code",
      "source": [
        "# Show logic here.\n",
        "# Prompt the user to enter the mass of the object in kilograms\n",
        "mass = float(input(\"Enter the mass of the object (in kg): \"))\n",
        "# Prompt the user to enter the acceleration in meters per second squared\n",
        "acceleration = float(input(\"Enter the acceleration (in m/s²): \"))\n",
        "# Calculate the force using Newton's Second Law: F = m * a\n",
        "force = mass * acceleration\n",
        "\n",
        "\n"
      ],
      "metadata": {
        "id": "kg_HHWzpkcfZ",
        "colab": {
          "base_uri": "https://localhost:8080/"
        },
        "outputId": "7b60fafd-157f-4baa-ae3d-78d1a4542f42"
      },
      "execution_count": 19,
      "outputs": [
        {
          "name": "stdout",
          "output_type": "stream",
          "text": [
            "Enter the mass of the object (in kg): 4\n",
            "Enter the acceleration (in m/s²): 6\n"
          ]
        }
      ]
    },
    {
      "cell_type": "code",
      "source": [
        "# Print result here.\n",
        "# Display the calculated force with appropriate units\n",
        "print(f\"The force exerted on the object is: {force} Newtons\")\n",
        "#Alternative display\n",
        "print(force)"
      ],
      "metadata": {
        "id": "WahSUzveCuDh",
        "colab": {
          "base_uri": "https://localhost:8080/"
        },
        "outputId": "5e8201fd-0e33-4e25-892c-03da0c918c34"
      },
      "execution_count": 20,
      "outputs": [
        {
          "output_type": "stream",
          "name": "stdout",
          "text": [
            "The force exerted on the object is: 24.0 Newtons\n",
            "24.0\n"
          ]
        }
      ]
    },
    {
      "cell_type": "markdown",
      "source": [
        "***Question 2:***\n",
        "The funciton below calculates the acceleration of an object. It takes in two recordings of the objects speed and the times at which they were taken. Acceleration is defined as the change in velocity divided by the change in time. Complete the function. (3 Marks)"
      ],
      "metadata": {
        "id": "f0L2R2pBubbT"
      }
    },
    {
      "cell_type": "code",
      "source": [
        "# Show logic here\n",
        "def acceleration(v1, v2, t1, t2):\n",
        "    # Calculate the change in velocity\n",
        "    v_change = v2 - v1  # Final velocity minus initial velocity\n",
        "\n",
        "    # Calculate the change in time\n",
        "    t_change = t2 - t1  # Final time minus initial time\n",
        "\n",
        "    # Calculate acceleration using the formula: acceleration = change in velocity / change in time\n",
        "    result = v_change / t_change  # This gives the acceleration in meters per second squared (m/s²)\n",
        "\n",
        "    return result  # Return the calculated acceleration\n",
        "\n",
        "\n",
        "# Given values for initial and final velocities and times\n",
        "v1 = 35.7  # Initial velocity in meters per second (m/s)\n",
        "v2 = 88    # Final velocity in meters per second (m/s)\n",
        "t1 = 3     # Initial time in seconds\n",
        "t2 = 10    # Final time in seconds\n",
        "\n",
        "# Call the acceleration function with the given values and store the result\n",
        "answer = acceleration(v1, v2, t1, t2)\n",
        "\n"
      ],
      "metadata": {
        "id": "GtlrKA1jukgl"
      },
      "execution_count": 29,
      "outputs": []
    },
    {
      "cell_type": "code",
      "source": [
        "# Print result here here.\n",
        "# Given values for initial and final velocities and times\n",
        "v1 = 35.7  # Initial velocity in meters per second (m/s)\n",
        "v2 = 88    # Final velocity in meters per second (m/s)\n",
        "t1 = 3     # Initial time in seconds\n",
        "t2 = 10    # Final time in seconds\n",
        "\n",
        "# Call the acceleration function with the given values and store the result\n",
        "answer = acceleration(v1, v2, t1, t2)\n",
        "\n",
        "# Print the result in a formatted string\n",
        "print(f'The object is accelerating at a rate of {answer} m/s².')  # Output the acceleration with the appropriate unit\n"
      ],
      "metadata": {
        "id": "bo_g7p-MC4Kq",
        "colab": {
          "base_uri": "https://localhost:8080/"
        },
        "outputId": "69d83d37-ac06-430a-a4d5-d4d0174a12a9"
      },
      "execution_count": 30,
      "outputs": [
        {
          "output_type": "stream",
          "name": "stdout",
          "text": [
            "The object is accelerating at a rate of 7.471428571428571 m/s².\n"
          ]
        }
      ]
    },
    {
      "cell_type": "markdown",
      "source": [
        "***Question 3:*** Create a class that defines a sphere. The class should have a property that defines the radius of the sphere and an encapsulated function that calculates and returns the volume of a sphere (volume = 4/3 * pi * radius^3). The class should accept radius as a parameter. Print your result. (5 Marks)"
      ],
      "metadata": {
        "id": "lLNjXZ-CgoQ4"
      }
    },
    {
      "cell_type": "code",
      "source": [
        "# Show logic here.\n",
        "class Sphere:\n",
        "    def __init__(self, radius):\n",
        "        # Initialize the radius property\n",
        "        self._radius = radius  # Use a leading underscore to indicate encapsulation\n",
        "\n",
        "    def volume(self):\n",
        "        # Calculate the volume of the sphere\n",
        "        return (4/3) * math.pi * (self._radius ** 3)  # Volume formula\n",
        "\n",
        "# Create an instance of the Sphere class with a specific radius\n",
        "radius_value = 6  # Example radius\n",
        "sphere = Sphere(radius_value)\n",
        "\n"
      ],
      "metadata": {
        "id": "WLuBvCdOgq4y"
      },
      "execution_count": 23,
      "outputs": []
    },
    {
      "cell_type": "code",
      "source": [
        "# Print result here.\n",
        "# Calculate the volume of the sphere and print the result\n",
        "volume_result = sphere.volume()\n",
        "print(f'The volume of the sphere with radius {radius_value} is {volume_result:.2f} cubic units.')\n",
        "\n"
      ],
      "metadata": {
        "id": "F3abAtk5gr79",
        "colab": {
          "base_uri": "https://localhost:8080/"
        },
        "outputId": "37347464-305e-47c3-872a-f91f8d5c3989"
      },
      "execution_count": 24,
      "outputs": [
        {
          "output_type": "stream",
          "name": "stdout",
          "text": [
            "The volume of the sphere with radius 6 is 904.78 cubic units.\n"
          ]
        }
      ]
    },
    {
      "cell_type": "markdown",
      "source": [
        "***Question 4:*** Create a class that defines a cylinder. The class should inherit from the class created in **Question 3** above, have a property that defines length and an encapsulated function that calculates and returns the volume of a cylinder (volume = pi * radius^2 * length). The class should accept radius and length as parameters. Print your results. (5 marks)"
      ],
      "metadata": {
        "id": "m4FMDOSQgsXs"
      }
    },
    {
      "cell_type": "code",
      "source": [
        "# Show logic here.\n",
        "# Sphere class from Question 3\n",
        "class Sphere:\n",
        "    def __init__(self, radius):\n",
        "        # Initialize the radius property\n",
        "        self._radius = radius  # Use a leading underscore to indicate encapsulation\n",
        "\n",
        "    def volume(self):\n",
        "        # Calculate the volume of the sphere\n",
        "        return (4/3) * math.pi * (self._radius ** 3)  # Volume formula\n",
        "\n",
        "# Cylinder class that inherits from Sphere\n",
        "class Cylinder(Sphere):\n",
        "    def __init__(self, radius, length):\n",
        "        # Call the parent class constructor to initialize the radius\n",
        "        super().__init__(radius)  # Initialize the radius in the Sphere class\n",
        "        self._length = length  # Initialize the length property\n",
        "\n",
        "    def volume(self):\n",
        "        # Calculate the volume of the cylinder\n",
        "        return math.pi * (self._radius ** 2) * self._length  # Volume formula for cylinder\n",
        "\n",
        "# Create an instance of the Cylinder class with specific radius and length\n",
        "radius_value = 6  # Example radius\n",
        "length_value = 10  # Example length\n",
        "cylinder = Cylinder(radius_value, length_value)\n",
        "\n"
      ],
      "metadata": {
        "id": "lVhCvhllgyvL"
      },
      "execution_count": 25,
      "outputs": []
    },
    {
      "cell_type": "code",
      "source": [
        "# Print result here.\n",
        "\n",
        "# Calculate the volume of the cylinder and print the result\n",
        "volume_result = cylinder.volume()\n",
        "print(f'The volume of the cylinder with radius {radius_value} and length {length_value} is {volume_result:.2f} cubic units.')\n",
        "\n",
        "\n"
      ],
      "metadata": {
        "id": "gHstqMJkgzDU",
        "colab": {
          "base_uri": "https://localhost:8080/"
        },
        "outputId": "b5ef57cc-1513-4d54-c4d6-7bebbd70348a"
      },
      "execution_count": 26,
      "outputs": [
        {
          "output_type": "stream",
          "name": "stdout",
          "text": [
            "The volume of the cylinder with radius 6 and length 10 is 1130.97 cubic units.\n"
          ]
        }
      ]
    },
    {
      "cell_type": "markdown",
      "source": [
        "***Question 5:*** Create a function that uses the sphere as defined in **Question 3** to determine how many spheres would fit inside a cylinder as defined in **Question 4**. The function should return the result as a whole number. Bear in mind the radius of the sphere cannot be greater than that of the cylinder. Print your result. (5 Marks)"
      ],
      "metadata": {
        "id": "hbeb_cBig5J3"
      }
    },
    {
      "cell_type": "code",
      "source": [
        "#Show logic here\n",
        "# Sphere class from Question 3\n",
        "class Sphere:\n",
        "    def __init__(self, radius):\n",
        "        # Initialize the radius property\n",
        "        self._radius = radius  # Use a leading underscore to indicate encapsulation\n",
        "\n",
        "    def volume(self):\n",
        "        # Calculate the volume of the sphere\n",
        "        return (4/3) * math.pi * (self._radius ** 3)  # Volume formula\n",
        "\n",
        "# Cylinder class from Question 4\n",
        "class Cylinder(Sphere):\n",
        "    def __init__(self, radius, length):\n",
        "        # Call the parent class constructor to initialize the radius\n",
        "        super().__init__(radius)  # Initialize the radius in the Sphere class\n",
        "        self._length = length  # Initialize the length property\n",
        "\n",
        "    def volume(self):\n",
        "        # Calculate the volume of the cylinder\n",
        "        return math.pi * (self._radius ** 2) * self._length  # Volume formula for cylinder\n",
        "\n",
        "# Function to determine how many spheres fit inside a cylinder\n",
        "def spheres_in_cylinder(cylinder, sphere):\n",
        "    # Calculate the volumes of the cylinder and the sphere\n",
        "    cylinder_volume = cylinder.volume()\n",
        "    sphere_volume = sphere.volume()\n",
        "\n",
        "    # Calculate how many spheres fit inside the cylinder\n",
        "    num_spheres = int(cylinder_volume // sphere_volume)  # Use floor division to get whole number\n",
        "\n",
        "    return num_spheres\n",
        "\n",
        "# Create instances of Sphere and Cylinder\n",
        "sphere_radius = 3  # Example radius for the sphere\n",
        "cylinder_radius = 6  # Example radius for the cylinder\n",
        "cylinder_length = 10  # Example length for the cylinder\n",
        "\n",
        "sphere = Sphere(sphere_radius)\n",
        "cylinder = Cylinder(cylinder_radius, cylinder_length)\n",
        "\n"
      ],
      "metadata": {
        "id": "LfOak35Eg7Ju"
      },
      "execution_count": 27,
      "outputs": []
    },
    {
      "cell_type": "code",
      "source": [
        "# Print result here.\n",
        "# Calculate how many spheres fit inside the cylinder and print the result\n",
        "result = spheres_in_cylinder(cylinder, sphere)\n",
        "print(f'Number of spheres that fit inside the cylinder: {result}')\n"
      ],
      "metadata": {
        "id": "XivKicCYg7YQ",
        "colab": {
          "base_uri": "https://localhost:8080/"
        },
        "outputId": "770a7b76-774c-46dd-ac57-f124c0557ba4"
      },
      "execution_count": 28,
      "outputs": [
        {
          "output_type": "stream",
          "name": "stdout",
          "text": [
            "Number of spheres that fit inside the cylinder: 10\n"
          ]
        }
      ]
    }
  ]
}