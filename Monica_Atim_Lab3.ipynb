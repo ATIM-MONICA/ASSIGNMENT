{
  "cells": [
    {
      "cell_type": "markdown",
      "metadata": {
        "id": "view-in-github",
        "colab_type": "text"
      },
      "source": [
        "<a href=\"https://colab.research.google.com/github/ATIM-MONICA/ASSIGNMENT/blob/main/Monica_Atim_Lab3.ipynb\" target=\"_parent\"><img src=\"https://colab.research.google.com/assets/colab-badge.svg\" alt=\"Open In Colab\"/></a>"
      ]
    },
    {
      "cell_type": "markdown",
      "metadata": {
        "id": "CpyJhgvxezhm"
      },
      "source": [
        "This lab consists of 5 questions that total up to 20 marks. You are to follow the instructions and prove that your solution works at the end of each question. You may include comments where necessary."
      ]
    },
    {
      "cell_type": "markdown",
      "metadata": {
        "id": "G5tT6TTkh-hK"
      },
      "source": [
        "***Question 1:***\n",
        "Below is a snippet of code that prints out numbers from 0-9. Make the necessary corrections to the source code so that it may print each number 0-9 individually. (2 Marks)"
      ]
    },
    {
      "cell_type": "code",
      "execution_count": 4,
      "metadata": {
        "id": "kg_HHWzpkcfZ",
        "colab": {
          "base_uri": "https://localhost:8080/"
        },
        "outputId": "aeeec775-72f6-4fab-9a7f-b4ce6e7290e9"
      },
      "outputs": [
        {
          "output_type": "stream",
          "name": "stdout",
          "text": [
            "0\n",
            "1\n",
            "2\n",
            "3\n",
            "4\n",
            "5\n",
            "6\n",
            "7\n",
            "8\n",
            "9\n"
          ]
        }
      ],
      "source": [
        "# Show logic and print result here.\n",
        "# Loop through a range of numbers from 0 to 9\n",
        "for i in range(10):  # range(10) generates numbers from 0 to 9\n",
        "    print(i)  # Print the current number"
      ]
    },
    {
      "cell_type": "markdown",
      "metadata": {
        "id": "f0L2R2pBubbT"
      },
      "source": [
        "***Question 2:***\n",
        "The funciton below reads names from a Python list and then prints them out in a statement. Complete the function. (3 Marks)"
      ]
    },
    {
      "cell_type": "code",
      "execution_count": 5,
      "metadata": {
        "id": "GtlrKA1jukgl"
      },
      "outputs": [],
      "source": [
        "# Show logic here\n",
        "\n",
        "def show_names():\n",
        "    names = ['Declan', 'Trevor', 'James', 'William', 'Peter', 'Malcom', 'Henry']\n",
        "    for i in range(len(names)):  # Iterate over the indices of the names list\n",
        "        name = names[i]  # Access the name at the current index\n",
        "        print(f'The name to be displayed is: {name}')  # Print the current name\n",
        "\n"
      ]
    },
    {
      "cell_type": "code",
      "execution_count": 6,
      "metadata": {
        "id": "bo_g7p-MC4Kq",
        "colab": {
          "base_uri": "https://localhost:8080/"
        },
        "outputId": "3c884d1b-9b81-4e54-ae93-0825f09ded8d"
      },
      "outputs": [
        {
          "output_type": "stream",
          "name": "stdout",
          "text": [
            "The name to be displayed is: Declan\n",
            "The name to be displayed is: Trevor\n",
            "The name to be displayed is: James\n",
            "The name to be displayed is: William\n",
            "The name to be displayed is: Peter\n",
            "The name to be displayed is: Malcom\n",
            "The name to be displayed is: Henry\n"
          ]
        }
      ],
      "source": [
        "# Print result here here.\n",
        "show_names() # Call the function to execute the code"
      ]
    },
    {
      "cell_type": "markdown",
      "metadata": {
        "id": "lLNjXZ-CgoQ4"
      },
      "source": [
        "***Question 3:***\n",
        "I have defined three Python lists with words in each of them. Create a funciton that uses one word from each list to create a logically sound and grammatically correct sentence. Each word from either list may only be used once - once a word is used in a sentence it cannot be used in another sentence. Print out your result. (5 Marks)"
      ]
    },
    {
      "cell_type": "code",
      "execution_count": 7,
      "metadata": {
        "id": "WLuBvCdOgq4y"
      },
      "outputs": [],
      "source": [
        "# Show logic here\n",
        "import random\n",
        "\n",
        "def create_sentence():\n",
        "    colours = ['red', 'blue', 'green']\n",
        "    vehicles = ['car', 'bicycle', 'tractor']\n",
        "    adjectives = ['fast', 'slow', 'cool']\n",
        "\n",
        "    # Randomly select one word from each list\n",
        "    colour = random.choice(colours)\n",
        "    vehicle = random.choice(vehicles)\n",
        "    adjective = random.choice(adjectives)\n",
        "\n",
        "    # Form a grammatically correct sentence\n",
        "    sentence = f\"The {adjective} {colour} {vehicle} parked outside is my {vehicle}.\"\n",
        "\n",
        "    print(sentence)  # Print the result\n",
        "\n"
      ]
    },
    {
      "cell_type": "code",
      "execution_count": 8,
      "metadata": {
        "id": "F3abAtk5gr79",
        "colab": {
          "base_uri": "https://localhost:8080/"
        },
        "outputId": "4e29ce43-d57e-4d2c-c89c-2a783d1960d6"
      },
      "outputs": [
        {
          "output_type": "stream",
          "name": "stdout",
          "text": [
            "The fast red car parked outside is my car.\n"
          ]
        }
      ],
      "source": [
        "# Print result here.\n",
        "create_sentence()  # Call the function to execute the code\n"
      ]
    },
    {
      "cell_type": "markdown",
      "metadata": {
        "id": "m4FMDOSQgsXs"
      },
      "source": [
        "***Question 4:*** Create a function that accepts a list of salaries and calculates the taxes and net pay associated with that salary. The tax rates are defined as follows: a person earning 600,000 or more pays 43% tax, a person earning 400,000 or more but less than 600,000 pays 33% tax, a person earning 200,000 or more but less than 400,000 pays 23% tax and someone earning less than 200,000 pays 13% tax. Net Pay is equal to gross pay minus tax. The function should print a statement that describes how much tax and what the net pay is for each salary in the list. (5 marks)"
      ]
    },
    {
      "cell_type": "code",
      "execution_count": 13,
      "metadata": {
        "id": "lVhCvhllgyvL"
      },
      "outputs": [],
      "source": [
        "# Show logic here:\n",
        "def format_salary(salary):\n",
        "    \"\"\"Format the salary to include commas for thousands.\"\"\"\n",
        "    return f\"{salary:,.2f}\"  # Format to two decimal places with commas\n",
        "\n",
        "def calculate_taxes_and_net_pay():\n",
        "    salaries = []\n",
        "\n",
        "    # Input salaries from the user\n",
        "    while True:\n",
        "        salary_input = input(\"Enter a salary in UGX (or type 'done' to finish): \")\n",
        "        if salary_input.lower() == 'done':\n",
        "            break\n",
        "        try:\n",
        "            salary = float(salary_input)\n",
        "            if salary < 0:\n",
        "                print(\"Please enter a valid positive salary.\")\n",
        "                continue\n",
        "            salaries.append(salary)\n",
        "        except ValueError:\n",
        "            print(\"Please enter a valid number.\")\n",
        "\n",
        "    # Calculate tax and net pay for each salary\n",
        "    for salary in salaries:\n",
        "        # Determine the tax rate based on the salary\n",
        "        if salary >= 600000:\n",
        "            tax_rate = 0.43\n",
        "        elif salary >= 400000:\n",
        "            tax_rate = 0.33\n",
        "        elif salary >= 200000:\n",
        "            tax_rate = 0.23\n",
        "        else:\n",
        "            tax_rate = 0.13\n",
        "\n",
        "        # Calculate the tax and net pay\n",
        "        tax = salary * tax_rate\n",
        "        net_pay = salary - tax\n",
        "\n",
        "        # Print the results with formatted salary\n",
        "        formatted_salary = format_salary(salary)\n",
        "        formatted_tax = format_salary(tax)\n",
        "        formatted_net_pay = format_salary(net_pay)\n",
        "\n",
        "        print(f\"For a salary of UGX {formatted_salary}, the tax is UGX {formatted_tax} and the net pay is UGX {formatted_net_pay}.\")\n",
        "\n"
      ]
    },
    {
      "cell_type": "code",
      "execution_count": 14,
      "metadata": {
        "id": "gHstqMJkgzDU",
        "colab": {
          "base_uri": "https://localhost:8080/"
        },
        "outputId": "582a36a1-04eb-460b-edbc-0f186f35546a"
      },
      "outputs": [
        {
          "output_type": "stream",
          "name": "stdout",
          "text": [
            "Enter a salary in UGX (or type 'done' to finish): 60000\n",
            "Enter a salary in UGX (or type 'done' to finish): done\n",
            "For a salary of UGX 60,000.00, the tax is UGX 7,800.00 and the net pay is UGX 52,200.00.\n"
          ]
        }
      ],
      "source": [
        "# Print result here.\n",
        "\n",
        "# Call the function to execute\n",
        "calculate_taxes_and_net_pay()\n"
      ]
    },
    {
      "cell_type": "markdown",
      "metadata": {
        "id": "hbeb_cBig5J3"
      },
      "source": [
        "***Question 5:*** Write a function that determines the Grade of a student. The grade are distinguished as follows: A student is graded A for scoring 90 or more marks, graded B for scoring 80 or more but less than 90, graded C for scoring 70 or more but less than 80, graded D for scoring 60 or more but less than 70 and is graded F for scoring less than 60. The function should take the score as a parameter. The student's score must be user input. Print out your result. (5 Marks)"
      ]
    },
    {
      "cell_type": "code",
      "execution_count": 11,
      "metadata": {
        "id": "LfOak35Eg7Ju"
      },
      "outputs": [],
      "source": [
        "#Show logic here\n",
        "def determine_grade(score):\n",
        "    # Determine the grade based on the score\n",
        "    if score >= 90:\n",
        "        grade = 'A'\n",
        "    elif score >= 80:\n",
        "        grade = 'B'\n",
        "    elif score >= 70:\n",
        "        grade = 'C'\n",
        "    elif score >= 60:\n",
        "        grade = 'D'\n",
        "    else:\n",
        "        grade = 'F'\n",
        "\n",
        "    return grade\n",
        "\n",
        "def main():\n",
        "    # Input score from the user\n",
        "    while True:\n",
        "        score_input = input(\"Enter the student's score (or type 'done' to finish): \")\n",
        "        if score_input.lower() == 'done':\n",
        "            break\n",
        "        try:\n",
        "            score = float(score_input)\n",
        "            if score < 0 or score > 100:\n",
        "                print(\"Please enter a valid score between 0 and 100.\")\n",
        "                continue\n",
        "\n",
        "            # Determine the grade\n",
        "            grade = determine_grade(score)\n",
        "            print(f\"The student's score is {score:.2f} and the grade is: {grade}.\")\n",
        "        except ValueError:\n",
        "            print(\"Please enter a valid number.\")\n",
        "\n"
      ]
    },
    {
      "cell_type": "code",
      "execution_count": 12,
      "metadata": {
        "id": "XivKicCYg7YQ",
        "colab": {
          "base_uri": "https://localhost:8080/"
        },
        "outputId": "07d0e681-e547-4bee-c630-3e07555ca8de"
      },
      "outputs": [
        {
          "name": "stdout",
          "output_type": "stream",
          "text": [
            "Enter the student's score (or type 'done' to finish): 50\n",
            "The student's score is 50.00 and the grade is: F.\n",
            "Enter the student's score (or type 'done' to finish): done\n"
          ]
        }
      ],
      "source": [
        "# Print result here.\n",
        "# Call the main function to execute\n",
        "main()\n",
        "\n"
      ]
    }
  ],
  "metadata": {
    "colab": {
      "provenance": [],
      "include_colab_link": true
    },
    "kernelspec": {
      "display_name": "Python 3",
      "name": "python3"
    },
    "language_info": {
      "name": "python"
    }
  },
  "nbformat": 4,
  "nbformat_minor": 0
}