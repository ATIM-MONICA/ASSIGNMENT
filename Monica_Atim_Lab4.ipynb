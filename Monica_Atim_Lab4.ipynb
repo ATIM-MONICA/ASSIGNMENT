{
  "cells": [
    {
      "cell_type": "markdown",
      "metadata": {
        "id": "view-in-github",
        "colab_type": "text"
      },
      "source": [
        "<a href=\"https://colab.research.google.com/github/ATIM-MONICA/ASSIGNMENT/blob/main/Monica_Atim_Lab4.ipynb\" target=\"_parent\"><img src=\"https://colab.research.google.com/assets/colab-badge.svg\" alt=\"Open In Colab\"/></a>"
      ]
    },
    {
      "cell_type": "markdown",
      "metadata": {
        "id": "CpyJhgvxezhm"
      },
      "source": [
        "This lab consists of 5 questions that total up to 20 marks. You are to follow the instructions and prove that your solution works at the end of each question. You may include comments where necessary."
      ]
    },
    {
      "cell_type": "markdown",
      "metadata": {
        "id": "G5tT6TTkh-hK"
      },
      "source": [
        "***Question 1:***\n",
        "Solve for x in the logic box below: (6x/5) + 3 = 21. Print your answer in the print box. (2 Marks)"
      ]
    },
    {
      "cell_type": "code",
      "execution_count": 101,
      "metadata": {
        "id": "kg_HHWzpkcfZ"
      },
      "outputs": [],
      "source": [
        "# Show logic here.\n",
        "# Step 1: Define the known equation (6x/5) + 3 = 21\n",
        "# Step 2: Subtract 3 from both sides\n",
        "#left_side = (6 * 'x') / 5   symbolic representation is for explanation only\n",
        "right_side = 21 - 3\n",
        "# Step 3: Multiply both sides by 5\n",
        "# Step 4: Solve for x by dividing both sides by 6\n",
        "\n",
        "# Doing these steps programmatically:\n",
        "right_side = 21 - 3          # 18\n",
        "value_after_multiply = right_side * 5  # 18 * 5 = 90\n",
        "x = value_after_multiply / 6  # 90 / 6 = 15\n"
      ]
    },
    {
      "cell_type": "code",
      "execution_count": 102,
      "metadata": {
        "id": "WahSUzveCuDh",
        "colab": {
          "base_uri": "https://localhost:8080/"
        },
        "outputId": "52adb6bb-49c2-4669-8700-66b42bf74493"
      },
      "outputs": [
        {
          "output_type": "stream",
          "name": "stdout",
          "text": [
            "15.0\n"
          ]
        }
      ],
      "source": [
        "# Print result here.\n",
        "print(x)"
      ]
    },
    {
      "cell_type": "markdown",
      "metadata": {
        "id": "f0L2R2pBubbT"
      },
      "source": [
        "***Question 2:***\n",
        "The funciton below describes the linear expression f(x) = x^2 - 3x - 18. Complete the function. (3 Marks)"
      ]
    },
    {
      "cell_type": "code",
      "execution_count": 99,
      "metadata": {
        "id": "GtlrKA1jukgl",
        "colab": {
          "base_uri": "https://localhost:8080/"
        },
        "outputId": "df2a16de-5513-476e-da2e-4e27e370d3dc"
      },
      "outputs": [
        {
          "name": "stdout",
          "output_type": "stream",
          "text": [
            "Enter a value for x: 10\n"
          ]
        }
      ],
      "source": [
        "# Show logic here\n",
        "# Define the function f(x) = x^2 - 3x - 18\n",
        "def f(x):\n",
        "    # Calculate the value of y using the given expression\n",
        "    y = x**2 - 3*x - 18\n",
        "    # Return the computed value\n",
        "    return y\n",
        "    # Prompt the user to enter an integer value for x\n",
        "x = int(input('Enter a value for x: '))\n"
      ]
    },
    {
      "cell_type": "code",
      "execution_count": 100,
      "metadata": {
        "id": "bo_g7p-MC4Kq",
        "colab": {
          "base_uri": "https://localhost:8080/"
        },
        "outputId": "0b5001d0-afb3-44cf-95de-2918541b1aeb"
      },
      "outputs": [
        {
          "output_type": "stream",
          "name": "stdout",
          "text": [
            "52\n"
          ]
        }
      ],
      "source": [
        "# Print result here here.\n",
        "# Call the function with the input value and print the result\n",
        "print(f(x))"
      ]
    },
    {
      "cell_type": "markdown",
      "metadata": {
        "id": "lLNjXZ-CgoQ4"
      },
      "source": [
        "***Question 3:*** Write a function that returns a **list** of factors for any given number. The number in question must be passed to the function as a parameter. Print out your result. (5 Marks)"
      ]
    },
    {
      "cell_type": "code",
      "execution_count": 86,
      "metadata": {
        "id": "WLuBvCdOgq4y",
        "colab": {
          "base_uri": "https://localhost:8080/"
        },
        "outputId": "4d8fe4e0-3215-4252-a59a-6485c7cbfe1c"
      },
      "outputs": [
        {
          "name": "stdout",
          "output_type": "stream",
          "text": [
            "Enter a number to find its factors: 4\n"
          ]
        }
      ],
      "source": [
        "# Show logic here.\n",
        "def factors(n):\n",
        "    # Initialize an empty list to store factors\n",
        "    factor_list = []\n",
        "\n",
        "    # Loop through numbers from 1 to n (inclusive)\n",
        "    for i in range(1, n + 1):\n",
        "        # Check if i is a factor of n\n",
        "        if n % i == 0:\n",
        "            factor_list.append(i)  # Add factor to list\n",
        "\n",
        "    # Return the list of factors\n",
        "    return factor_list\n",
        "    # Input: Get the number from the user\n",
        "num = int(input('Enter a number to find its factors: '))\n"
      ]
    },
    {
      "cell_type": "code",
      "execution_count": 103,
      "metadata": {
        "id": "F3abAtk5gr79",
        "colab": {
          "base_uri": "https://localhost:8080/"
        },
        "outputId": "40428648-91e8-41f3-bfe6-765b45557d7a"
      },
      "outputs": [
        {
          "output_type": "stream",
          "name": "stdout",
          "text": [
            "[1, 2, 4]\n"
          ]
        }
      ],
      "source": [
        "# Print result here.\n",
        "# Call the function and print the list of factors\n",
        "print(factors(num))\n"
      ]
    },
    {
      "cell_type": "markdown",
      "metadata": {
        "id": "m4FMDOSQgsXs"
      },
      "source": [
        "***Question 4:*** Create a function that calculates the prime numbers within any given range of numbers. This function must receive the lowest and highest points as parameters. The function must ensure that the lowest point isnt't greater than the highest point. The highest and lowest points must be user input. Print your result as a **list** and assign it to a local variable. [Hint: All prime numbers are greater than 1, (Except 2) All prime numbers are odd, All prime numbers have only 2 factors: 1 & the number itself, make use of the function you created in **Question 3**] (5 marks)"
      ]
    },
    {
      "cell_type": "code",
      "execution_count": 109,
      "metadata": {
        "id": "lVhCvhllgyvL",
        "colab": {
          "base_uri": "https://localhost:8080/"
        },
        "outputId": "37636b55-55d4-4992-c951-38ebe8c09842"
      },
      "outputs": [
        {
          "name": "stdout",
          "output_type": "stream",
          "text": [
            "Enter the lowest point: 2\n",
            "Enter the highest point: 9\n"
          ]
        },
        {
          "output_type": "execute_result",
          "data": {
            "text/plain": [
              "[2, 3, 5, 7]"
            ]
          },
          "metadata": {},
          "execution_count": 109
        }
      ],
      "source": [
        "\n",
        "# Show logic here:\n",
        "# Global variable to store prime numbers\n",
        "prime_list = []\n",
        "\n",
        "def factors(n):\n",
        "    # Initialize an empty list to store factors\n",
        "    factor_list = []\n",
        "    # Loop through numbers from 1 to n (inclusive)\n",
        "    for i in range(1, n + 1):\n",
        "        # Check if i is a factor of n\n",
        "        if n % i == 0:\n",
        "            factor_list.append(i)  # Add factor to list\n",
        "    return factor_list\n",
        "\n",
        "def is_prime(num):\n",
        "    # A prime number is greater than 1 and has exactly two factors\n",
        "    if num <= 1:\n",
        "        return False\n",
        "    return len(factors(num)) == 2\n",
        "\n",
        "def prime_numbers_in_range(low, high):\n",
        "    global prime_list  # Declare the variable as global\n",
        "\n",
        "    # Ensure that the lowest point isn't greater than the highest point\n",
        "    if low > high:\n",
        "        return \"Error: The lowest point cannot be greater than the highest point.\"\n",
        "\n",
        "    # Clear the global prime_list before populating it\n",
        "    prime_list.clear()\n",
        "\n",
        "    # Iterate through the range from low to high\n",
        "    for number in range(low, high + 1):\n",
        "        if is_prime(number):\n",
        "            prime_list.append(number)  # Add prime number to the list\n",
        "\n",
        "    return prime_list\n",
        "\n",
        "# Example usage: Get the lowest and highest points from the user\n",
        "lowest = int(input('Enter the lowest point: '))\n",
        "highest = int(input('Enter the highest point: '))\n",
        "\n",
        "# Call the function to populate the global prime_list\n",
        "prime_numbers_in_range(lowest, highest)\n",
        "\n",
        "\n",
        "\n"
      ]
    },
    {
      "cell_type": "code",
      "execution_count": 111,
      "metadata": {
        "id": "gHstqMJkgzDU",
        "colab": {
          "base_uri": "https://localhost:8080/"
        },
        "outputId": "4bad06a6-416b-4424-f276-7511ff80597d"
      },
      "outputs": [
        {
          "output_type": "stream",
          "name": "stdout",
          "text": [
            "[2, 3, 5, 7]\n"
          ]
        }
      ],
      "source": [
        "# Print result here.\n",
        "# Print the list of prime numbers\n",
        "# Print the global prime_list\n",
        "print(prime_list)\n",
        "\n",
        "\n"
      ]
    },
    {
      "cell_type": "markdown",
      "metadata": {
        "id": "hbeb_cBig5J3"
      },
      "source": [
        "***Question 5:*** Create a function that inputs the local variable created in **Question 4** as a parameter to perform basic statistics on it. The function must determine the number of items in the list, the sum of all the items in the list, the product of all the items in the list and the mean of all the items in the list. The function should print the results in clear and concise statements. (5 Marks)"
      ]
    },
    {
      "cell_type": "code",
      "execution_count": 71,
      "metadata": {
        "id": "LfOak35Eg7Ju"
      },
      "outputs": [],
      "source": [
        "#Show logic here\n",
        "# Global variables to store statistics\n",
        "count = 0\n",
        "total_sum = 0\n",
        "product = 1\n",
        "mean = 0\n",
        "\n",
        "def basic_statistics(numbers):\n",
        "    global count, total_sum, product, mean  # Declare globals to modify them\n",
        "\n",
        "    # Calculate the number of items in the list\n",
        "    count = len(numbers)\n",
        "\n",
        "    # Calculate the sum of all items in the list\n",
        "    total_sum = sum(numbers)\n",
        "\n",
        "    # Calculate the product of all items in the list\n",
        "    product = 1\n",
        "    for num in numbers:\n",
        "        product *= num\n",
        "\n",
        "    # Calculate the mean of all items in the list\n",
        "    mean = total_sum / count if count != 0 else 0\n",
        "\n",
        "   # Global variables to store statistics\n",
        "count = 0\n",
        "total_sum = 0\n",
        "product = 1\n",
        "mean = 0\n",
        "\n",
        "def basic_statistics(numbers):\n",
        "    global count, total_sum, product, mean  # Declare globals to modify them\n",
        "\n",
        "    # Calculate the number of items in the list\n",
        "    count = len(numbers)\n",
        "\n",
        "    # Calculate the sum of all items in the list\n",
        "    total_sum = sum(numbers)\n",
        "\n",
        "    # Calculate the product of all items in the list\n",
        "    product = 1\n",
        "    for num in numbers:\n",
        "        product *= num\n",
        "\n",
        "    # Calculate the mean of all items in the list\n",
        "    mean = total_sum / count if count != 0 else 0\n",
        "\n",
        "    # Print the statistics clearly\n",
        "    print(f\"Number of items: {count}\")\n",
        "    print(f\"Sum of all items: {total_sum}\")\n",
        "    print(f\"Product of all items: {product}\")\n",
        "    print(f\"Mean of all items: {mean}\")\n",
        "\n",
        "\n",
        "\n",
        "\n",
        "\n",
        "\n",
        ""
      ]
    },
    {
      "cell_type": "code",
      "execution_count": 72,
      "metadata": {
        "id": "XivKicCYg7YQ",
        "colab": {
          "base_uri": "https://localhost:8080/"
        },
        "outputId": "ae0d1abe-3ec8-4247-ea39-165c91292335"
      },
      "outputs": [
        {
          "output_type": "stream",
          "name": "stdout",
          "text": [
            "Number of items: 4\n",
            "Sum of all items: 17\n",
            "Product of all items: 210\n",
            "Mean of all items: 4.25\n"
          ]
        }
      ],
      "source": [
        "# Print result here.\n",
        "basic_statistics(prime_list)\n",
        "\n",
        "\n"
      ]
    }
  ],
  "metadata": {
    "colab": {
      "provenance": [],
      "include_colab_link": true
    },
    "kernelspec": {
      "display_name": "Python 3",
      "name": "python3"
    },
    "language_info": {
      "name": "python"
    }
  },
  "nbformat": 4,
  "nbformat_minor": 0
}