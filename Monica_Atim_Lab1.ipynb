{
  "nbformat": 4,
  "nbformat_minor": 0,
  "metadata": {
    "colab": {
      "provenance": [],
      "toc_visible": true,
      "include_colab_link": true
    },
    "kernelspec": {
      "name": "python3",
      "display_name": "Python 3"
    },
    "language_info": {
      "name": "python"
    }
  },
  "cells": [
    {
      "cell_type": "markdown",
      "metadata": {
        "id": "view-in-github",
        "colab_type": "text"
      },
      "source": [
        "<a href=\"https://colab.research.google.com/github/ATIM-MONICA/ASSIGNMENT/blob/main/Monica_Atim_Lab1.ipynb\" target=\"_parent\"><img src=\"https://colab.research.google.com/assets/colab-badge.svg\" alt=\"Open In Colab\"/></a>"
      ]
    },
    {
      "cell_type": "markdown",
      "source": [
        "This lab consists of 5 questions that total up to 20 marks. You are to follow the instructions and prove that your solution works at the end of each question. You may include comments where necessary."
      ],
      "metadata": {
        "id": "CpyJhgvxezhm"
      }
    },
    {
      "cell_type": "code",
      "source": [
        "import math"
      ],
      "metadata": {
        "id": "BLkacj7Gyqx7"
      },
      "execution_count": 2,
      "outputs": []
    },
    {
      "cell_type": "markdown",
      "source": [
        "***Question 1:***\n",
        "Below is a snippet of code that accept's a user's name as input and displays the name within a message from the computer terminal. Complete the code snippet so that the name is shown in the message. (2 Marks)"
      ],
      "metadata": {
        "id": "G5tT6TTkh-hK"
      }
    },
    {
      "cell_type": "code",
      "source": [
        "# Show logic here\n",
        "name = input('Please enter your name: ')\n",
        "# Create a statement that includes the user's name\n",
        "statement = f'Hey there, {name}! This is from the terminal.'\n"
      ],
      "metadata": {
        "id": "kg_HHWzpkcfZ",
        "colab": {
          "base_uri": "https://localhost:8080/"
        },
        "outputId": "e542442e-62db-43a2-bde3-7b22e42a35b1"
      },
      "execution_count": 6,
      "outputs": [
        {
          "name": "stdout",
          "output_type": "stream",
          "text": [
            "Please enter your name: Monica\n"
          ]
        }
      ]
    },
    {
      "cell_type": "code",
      "source": [
        "# Print result here.\n",
        "print(statement)"
      ],
      "metadata": {
        "id": "WahSUzveCuDh",
        "colab": {
          "base_uri": "https://localhost:8080/"
        },
        "outputId": "5306c247-9dec-4b82-d13f-b6fe73a7c2f9"
      },
      "execution_count": 7,
      "outputs": [
        {
          "output_type": "stream",
          "name": "stdout",
          "text": [
            "Hey there, Monica! This is from the terminal.\n"
          ]
        }
      ]
    },
    {
      "cell_type": "markdown",
      "source": [
        "***Question 2:***\n",
        "The funciton below takes in input of length and width from a user to calculate the area of the rectangle. Complete the function and print out the result. (3 Marks)"
      ],
      "metadata": {
        "id": "f0L2R2pBubbT"
      }
    },
    {
      "cell_type": "code",
      "source": [
        "# Show logic here\n",
        "def get_area():\n",
        "   # Get user input for length and width and converting them to float for calculation\n",
        "  length = float(input('Please enter the length of the rectangle: '))\n",
        "  width =  float(input('Please enter the width of the rectangle: '))\n",
        "  # Calculate the area of the rectangle\n",
        "  area = length * width\n",
        "  # Print the result\n",
        "  print(f'The area of the object is {area} square units.')\n"
      ],
      "metadata": {
        "id": "GtlrKA1jukgl"
      },
      "execution_count": 12,
      "outputs": []
    },
    {
      "cell_type": "code",
      "source": [
        "# Print result here.\n",
        "get_area()\n"
      ],
      "metadata": {
        "id": "bo_g7p-MC4Kq",
        "colab": {
          "base_uri": "https://localhost:8080/"
        },
        "outputId": "06cd21d4-044a-4b0a-849f-e1ba1d1d135f"
      },
      "execution_count": 13,
      "outputs": [
        {
          "output_type": "stream",
          "name": "stdout",
          "text": [
            "Please enter the length of the rectangle: 3\n",
            "Please enter the width of the rectangle: 4\n",
            "The area of the object is 12.0 square units.\n"
          ]
        }
      ]
    },
    {
      "cell_type": "markdown",
      "source": [
        "***Question 3:*** Write me a funciton lke the one above and invoke 2 instances of rectangles with Rectangle 1 having the dimensions (Width = 13, Length = 17) and Rectangle 2 having the dimensions (Width = 19, Length = 25). The dimensions of the rectangles must be input by a user. Make sure that the function only accepts positive integers. (5 Marks)"
      ],
      "metadata": {
        "id": "lLNjXZ-CgoQ4"
      }
    },
    {
      "cell_type": "code",
      "source": [
        "# Show logic here\n",
        "def get_area():\n",
        "    # Function to get user input and validate it to only accept positive integers\n",
        "    def get_positive_integer(prompt):\n",
        "        while True:\n",
        "            try:\n",
        "                value = int(input(prompt))  # Convert input to integer\n",
        "                if value > 0:\n",
        "                    return value  # Return the value if it's positive\n",
        "                else:\n",
        "                    print(\"Please enter a positive integer.\")\n",
        "            except ValueError:\n",
        "                print(\"Invalid input! Please enter a valid integer.\")\n",
        "\n",
        "    # Get dimensions for the first rectangle\n",
        "    length1 = get_positive_integer('Please enter the length of the first rectangle: ')\n",
        "    width1 = get_positive_integer('Please enter the width of the first rectangle: ')\n",
        "\n",
        "    # Get dimensions for the second rectangle\n",
        "    length2 = get_positive_integer('Please enter the length of the second rectangle: ')\n",
        "    width2 = get_positive_integer('Please enter the width of the second rectangle: ')\n",
        "\n",
        "    # Calculate areas\n",
        "    area1 = length1 * width1\n",
        "    area2 = length2 * width2\n",
        "\n",
        "    # Print the results\n",
        "    print(f'The area of the first rectangle is {area1} square units.')\n",
        "    print(f'The area of the second rectangle is {area2} square units.')\n",
        "\n",
        "\n"
      ],
      "metadata": {
        "id": "WLuBvCdOgq4y"
      },
      "execution_count": 14,
      "outputs": []
    },
    {
      "cell_type": "code",
      "source": [
        "# Print result here.\n",
        "get_area()\n"
      ],
      "metadata": {
        "id": "F3abAtk5gr79",
        "colab": {
          "base_uri": "https://localhost:8080/"
        },
        "outputId": "067c0ad4-5709-4036-e502-845285e501d7"
      },
      "execution_count": 15,
      "outputs": [
        {
          "output_type": "stream",
          "name": "stdout",
          "text": [
            "Please enter the length of the first rectangle: 2\n",
            "Please enter the width of the first rectangle: 3\n",
            "Please enter the length of the second rectangle: 3\n",
            "Please enter the width of the second rectangle: 4\n",
            "The area of the first rectangle is 6 square units.\n",
            "The area of the second rectangle is 12 square units.\n"
          ]
        }
      ]
    },
    {
      "cell_type": "markdown",
      "source": [
        "***Question 4:*** Using the formula (0.5 * base * height) create a function that calculates the area of a triangle. Calculate the area of the two triangles Traingle 1 (base = 5, height = 9). and Triangle 2 (base = 11, height = 15) and find out which triangle covers more area than the other. (5 marks)"
      ],
      "metadata": {
        "id": "m4FMDOSQgsXs"
      }
    },
    {
      "cell_type": "code",
      "source": [
        "# Show logic here\n",
        "def calculate_triangle_area(base, height):\n",
        "    # Formula to calculate the area of the triangle\n",
        "    return 0.5 * base * height\n",
        "\n",
        "def compare_triangle_areas():\n",
        "    # Triangle 1 dimensions\n",
        "    base1 = 5\n",
        "    height1 = 9\n",
        "    area1 = calculate_triangle_area(base1, height1)\n",
        "\n",
        "    # Triangle 2 dimensions\n",
        "    base2 = 11\n",
        "    height2 = 15\n",
        "    area2 = calculate_triangle_area(base2, height2)\n",
        "\n",
        "    # Print the areas of both triangles\n",
        "    print(f'The area of Triangle 1 is {area1} square units.')\n",
        "    print(f'The area of Triangle 2 is {area2} square units.')\n",
        "\n",
        "    # Compare areas\n",
        "    if area1 > area2:\n",
        "        print(\"Triangle 1 covers more area.\")\n",
        "    elif area2 > area1:\n",
        "        print(\"Triangle 2 covers more area.\")\n",
        "    else:\n",
        "        print(\"Both triangles have the same area.\")\n",
        "\n",
        "\n"
      ],
      "metadata": {
        "id": "lVhCvhllgyvL"
      },
      "execution_count": 16,
      "outputs": []
    },
    {
      "cell_type": "code",
      "source": [
        "# Print result here.\n",
        "compare_triangle_areas()\n"
      ],
      "metadata": {
        "id": "gHstqMJkgzDU",
        "colab": {
          "base_uri": "https://localhost:8080/"
        },
        "outputId": "af240664-c9fb-4608-92eb-8b9c10f071e3"
      },
      "execution_count": 17,
      "outputs": [
        {
          "output_type": "stream",
          "name": "stdout",
          "text": [
            "The area of Triangle 1 is 22.5 square units.\n",
            "The area of Triangle 2 is 82.5 square units.\n",
            "Triangle 2 covers more area.\n"
          ]
        }
      ]
    },
    {
      "cell_type": "markdown",
      "source": [
        "***Question 5:*** There are two circles Circle 1 (radius = 8) and Circle 2 (radius = 13) with a relationship such that Circle 1 is inside Circle 2. Using the formula for area of a cirlce (pi * (radius ** 2)) calculate how much area in percentage Circle 1 takes up inside Circle 2. (5 Marks)"
      ],
      "metadata": {
        "id": "hbeb_cBig5J3"
      }
    },
    {
      "cell_type": "code",
      "source": [
        "# Show logic here\n",
        "import math\n",
        "\n",
        "def calculate_circle_area(radius):\n",
        "    # Formula to calculate the area of a circle: pi * (radius ** 2)\n",
        "    return math.pi * (radius ** 2)\n",
        "\n",
        "def calculate_percentage_area(radius1, radius2):\n",
        "    # Calculate the area of Circle 1 and Circle 2\n",
        "    area1 = calculate_circle_area(radius1)\n",
        "    area2 = calculate_circle_area(radius2)\n",
        "\n",
        "    # Calculate the percentage area of Circle 1 inside Circle 2\n",
        "    percentage = (area1 / area2) * 100\n",
        "\n",
        "    # Print the result\n",
        "    print(f'The area of Circle 1 is {area1:.2f} square units.')\n",
        "    print(f'The area of Circle 2 is {area2:.2f} square units.')\n",
        "    print(f'Circle 1 takes up {percentage:.2f}% of the area of Circle 2.')\n",
        "\n",
        "# Define the radii of Circle 1 and Circle 2\n",
        "radius1 = 8  # Circle 1 radius\n",
        "radius2 = 13  # Circle 2 radius\n",
        "\n",
        "\n"
      ],
      "metadata": {
        "id": "LfOak35Eg7Ju"
      },
      "execution_count": 18,
      "outputs": []
    },
    {
      "cell_type": "code",
      "source": [
        "# Print result here.\n",
        "# Call the function to calculate and display the result\n",
        "calculate_percentage_area(radius1, radius2)\n"
      ],
      "metadata": {
        "id": "XivKicCYg7YQ",
        "colab": {
          "base_uri": "https://localhost:8080/"
        },
        "outputId": "a7c7430a-8651-4263-8741-fb5410dcb7c2"
      },
      "execution_count": 19,
      "outputs": [
        {
          "output_type": "stream",
          "name": "stdout",
          "text": [
            "The area of Circle 1 is 201.06 square units.\n",
            "The area of Circle 2 is 530.93 square units.\n",
            "Circle 1 takes up 37.87% of the area of Circle 2.\n"
          ]
        }
      ]
    }
  ]
}