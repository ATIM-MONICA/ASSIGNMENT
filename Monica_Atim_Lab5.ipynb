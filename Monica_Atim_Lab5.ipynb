{
  "nbformat": 4,
  "nbformat_minor": 0,
  "metadata": {
    "colab": {
      "provenance": [],
      "include_colab_link": true
    },
    "kernelspec": {
      "name": "python3",
      "display_name": "Python 3"
    },
    "language_info": {
      "name": "python"
    }
  },
  "cells": [
    {
      "cell_type": "markdown",
      "metadata": {
        "id": "view-in-github",
        "colab_type": "text"
      },
      "source": [
        "<a href=\"https://colab.research.google.com/github/ATIM-MONICA/ASSIGNMENT/blob/main/Monica_Atim_Lab5.ipynb\" target=\"_parent\"><img src=\"https://colab.research.google.com/assets/colab-badge.svg\" alt=\"Open In Colab\"/></a>"
      ]
    },
    {
      "cell_type": "markdown",
      "source": [
        "This lab consists of 12 questions that total up to 60 marks. You are to follow the instructions and prove that your solution works at the end of each question. You may include comments where necessary."
      ],
      "metadata": {
        "id": "CpyJhgvxezhm"
      }
    },
    {
      "cell_type": "code",
      "source": [
        "import math"
      ],
      "metadata": {
        "id": "XSsjZVMdQaWM"
      },
      "execution_count": null,
      "outputs": []
    },
    {
      "cell_type": "markdown",
      "source": [
        "***Question 1:*** Write me a funciton that calculates the area of a rectangle and invoke 2 instances of rectangles with Rectangle 1 having the dimensions (Length = 13, Width = 17) and Rectangle 2 having the dimensions (Length = 25, Width = 19). Make sure that the only accepts positive integers. (5 Marks)"
      ],
      "metadata": {
        "id": "lLNjXZ-CgoQ4"
      }
    },
    {
      "cell_type": "code",
      "source": [
        "# Show logic here.\n",
        "# Define a function to calculate the area of a rectangle\n",
        "def calculate_rectangle_area(length, width):\n",
        "\n",
        "    # Step 1: Check if the length is an integer\n",
        "    if not isinstance(length, int):\n",
        "        raise ValueError(\"Length must be an integer.\")  # Raise error if length isn't an int\n",
        "\n",
        "    # Step 2: Check if the width is an integer\n",
        "    if not isinstance(width, int):\n",
        "        raise ValueError(\"Width must be an integer.\")  # Raise error if width isn't an int\n",
        "\n",
        "    # Step 3: Check if length is positive\n",
        "    if length <= 0:\n",
        "        raise ValueError(\"Length must be a positive integer.\")  # Length should be > 0\n",
        "\n",
        "    # Step 4: Check if width is positive\n",
        "    if width <= 0:\n",
        "        raise ValueError(\"Width must be a positive integer.\")  # Width should be > 0\n",
        "\n",
        "    # Step 5: Calculate the area by multiplying length and width\n",
        "    area = length * width\n",
        "\n",
        "    # Step 6: Return the calculated area\n",
        "    return area\n",
        "\n",
        "# Call the function for Rectangle 1 with length=13 and width=17\n",
        "rectangle1_area = calculate_rectangle_area(13, 17)\n",
        "\n",
        "# Call the function for Rectangle 2 with length=25 and width=19\n",
        "rectangle2_area = calculate_rectangle_area(25, 19)\n",
        "\n",
        "\n",
        "\n"
      ],
      "metadata": {
        "id": "WLuBvCdOgq4y"
      },
      "execution_count": null,
      "outputs": []
    },
    {
      "cell_type": "code",
      "source": [
        "# Print result here.\n",
        "# Step 8: Print the area of Rectangle 1\n",
        "print(f\"Area of Rectangle 1 (Length: 13, Width: 17) = {rectangle1_area}cm²\")\n",
        "# Step 10: Print the area of Rectangle 2\n",
        "print(f\"Area of Rectangle 2 (Length: 25, Width: 19) = {rectangle2_area}cm²\")\n"
      ],
      "metadata": {
        "id": "F3abAtk5gr79",
        "colab": {
          "base_uri": "https://localhost:8080/"
        },
        "outputId": "49e73391-9a0f-4d8c-d085-bfaee99e6bba"
      },
      "execution_count": null,
      "outputs": [
        {
          "output_type": "stream",
          "name": "stdout",
          "text": [
            "Area of Rectangle 1 (Length: 13, Width: 17) = 221cm²\n",
            "Area of Rectangle 2 (Length: 25, Width: 19) = 475cm²\n"
          ]
        }
      ]
    },
    {
      "cell_type": "markdown",
      "source": [
        "***Question 2:*** Using the formula (0.5 * base * height) create a function that calculates the area of a triangle. Calculate the area of the two triangles Traingle 1 (base = 5, height = 9). and Triangle 2 (base = 11, height = 15) and find out which triangle covers more area than the other. (5 marks)"
      ],
      "metadata": {
        "id": "m4FMDOSQgsXs"
      }
    },
    {
      "cell_type": "code",
      "source": [
        "# Show logic here.\n",
        "# Function to calculate the area of a triangle\n",
        "def calculate_triangle_area(base, height):\n",
        "    # Check if base is an integer\n",
        "    if not isinstance(base, int):\n",
        "        raise ValueError(\"Base must be an integer.\")\n",
        "\n",
        "    # Check if height is an integer\n",
        "    if not isinstance(height, int):\n",
        "        raise ValueError(\"Height must be an integer.\")\n",
        "\n",
        "    # Check if base is positive\n",
        "    if base <= 0:\n",
        "        raise ValueError(\"Base must be a positive integer.\")\n",
        "\n",
        "    # Check if height is positive\n",
        "    if height <= 0:\n",
        "        raise ValueError(\"Height must be a positive integer.\")\n",
        "\n",
        "    # Calculate the area using the formula: 0.5 * base * height\n",
        "    area = 0.5 * base * height\n",
        "\n",
        "    # Return the calculated area\n",
        "    return area\n",
        "\n",
        "# Calculate the area of Triangle 1 with base=5 and height=9\n",
        "triangle1_area = calculate_triangle_area(5, 9)\n",
        "\n",
        "# Calculate the area of Triangle 2 with base=11 and height=15\n",
        "triangle2_area = calculate_triangle_area(11, 15)\n",
        "\n",
        "\n",
        "\n"
      ],
      "metadata": {
        "id": "lVhCvhllgyvL"
      },
      "execution_count": null,
      "outputs": []
    },
    {
      "cell_type": "code",
      "source": [
        "# Print result here.\n",
        "# Print the area of Triangle 1\n",
        "print(f\"Area of Triangle 1 (Base: 5cm, Height: 9cm) = {triangle1_area} cm²\")\n",
        "# Print the area of Triangle 2\n",
        "print(f\"Area of Triangle 2 (Base: 11cm, Height: 15cm) = {triangle2_area} cm²\")\n",
        "# Compare the areas and print which triangle covers more area, or if they are equal\n",
        "if triangle1_area > triangle2_area:\n",
        "    print(\"Triangle 1 covers more area than Triangle 2.\")\n",
        "elif triangle1_area < triangle2_area:\n",
        "    print(\"Triangle 2 covers more area than Triangle 1.\")\n",
        "else:\n",
        "    print(\"Both triangles cover the same area.\")\n",
        "\n"
      ],
      "metadata": {
        "id": "gHstqMJkgzDU",
        "colab": {
          "base_uri": "https://localhost:8080/"
        },
        "outputId": "c474349a-5d5b-492d-b148-8fad6ac5ec2c"
      },
      "execution_count": null,
      "outputs": [
        {
          "output_type": "stream",
          "name": "stdout",
          "text": [
            "Area of Triangle 1 (Base: 5cm, Height: 9cm) = 22.5 cm²\n",
            "Area of Triangle 2 (Base: 11cm, Height: 15cm) = 82.5 cm²\n",
            "Triangle 2 covers more area than Triangle 1.\n"
          ]
        }
      ]
    },
    {
      "cell_type": "markdown",
      "source": [
        "***Question 3:*** There are two circles Circle 1 (radius = 8) and Circle 2 (radius = 13) with a relationship such that Circle 1 is inside Circle 2. Using the formula for area of a cirlce (pi * (radius ** 2)) calculate how much area in percentage Circle 1 takes up inside Circle 2. (5 Marks)"
      ],
      "metadata": {
        "id": "hbeb_cBig5J3"
      }
    },
    {
      "cell_type": "code",
      "source": [
        "#Show logic here\n",
        "# Function to calculate the area of a circle given its radius\n",
        "def calculate_circle_area(radius):\n",
        "    \"\"\"\n",
        "    Calculate the area of a circle using the formula: π * radius^2.\n",
        "    The radius must be a positive integer.\n",
        "    \"\"\"\n",
        "    # Check if radius is an integer\n",
        "    if not isinstance(radius, int):\n",
        "        raise ValueError(\"Radius must be an integer.\")\n",
        "\n",
        "    # Check if radius is positive\n",
        "    if radius <= 0:\n",
        "        raise ValueError(\"Radius must be a positive integer.\")\n",
        "\n",
        "    # Calculate the area\n",
        "    area = math.pi * (radius ** 2)\n",
        "\n",
        "    # Return the area\n",
        "    return area\n",
        "\n",
        "# Calculate area of Circle 1 with radius 8\n",
        "circle1_area = calculate_circle_area(8)\n",
        "\n",
        "# Calculate area of Circle 2 with radius 13\n",
        "circle2_area = calculate_circle_area(13)\n",
        "\n",
        "# Calculate how much area in percentage Circle 1 takes up inside Circle 2\n",
        "percentage_area = (circle1_area / circle2_area) * 100\n",
        "\n"
      ],
      "metadata": {
        "id": "LfOak35Eg7Ju"
      },
      "execution_count": null,
      "outputs": []
    },
    {
      "cell_type": "code",
      "source": [
        "# Print result here.\n",
        "# Print the areas and the percentage\n",
        "print(f\"Area of Circle 1 (radius = 8): {circle1_area:.2f} cm²\")\n",
        "print(f\"Area of Circle 2 (radius = 13): {circle2_area:.2f} cm²\")\n",
        "print(f\"Circle 1 takes up {percentage_area:.2f}% of the area inside Circle 2.\")\n",
        "\n",
        "\n",
        "\n"
      ],
      "metadata": {
        "id": "XivKicCYg7YQ",
        "colab": {
          "base_uri": "https://localhost:8080/"
        },
        "outputId": "8b3e7736-bc7f-4d9c-f1dc-f2df65dcf463"
      },
      "execution_count": null,
      "outputs": [
        {
          "output_type": "stream",
          "name": "stdout",
          "text": [
            "Area of Circle 1 (radius = 8): 201.06 cm²\n",
            "Area of Circle 2 (radius = 13): 530.93 cm²\n",
            "Circle 1 takes up 37.87% of the area inside Circle 2.\n"
          ]
        }
      ]
    },
    {
      "cell_type": "markdown",
      "source": [
        "***Question 4:*** Create a class that defines a sphere. The class should have a property that defines the radius of the sphere and an encapsulated function that calculates and returns the volume of a sphere (volume = 4/3 * pi * radius^3). The class should accept radius as a parameter. Print your result. (5 Marks)"
      ],
      "metadata": {
        "id": "D6tfBqdHR6Iy"
      }
    },
    {
      "cell_type": "code",
      "source": [
        "# Show logic here.\n",
        "class Sphere:\n",
        "    def __init__(self, radius):\n",
        "\n",
        "        #Initialize the Sphere object with the given radius.\n",
        "\n",
        "        # Validate that the radius is a positive integer\n",
        "        if not isinstance(radius, int):\n",
        "            raise ValueError(\"Radius must be an integer.\")\n",
        "        if radius <= 0:\n",
        "            raise ValueError(\"Radius must be a positive integer.\")\n",
        "\n",
        "        self.radius = radius  # Set the radius property\n",
        "\n",
        "    def __calculate_volume(self):\n",
        "        \"\"\"\n",
        "        Private method to calculate the volume of the sphere using the formula:\n",
        "        volume = 4/3 * pi * radius^3\n",
        "        \"\"\"\n",
        "        volume = (4/3) * math.pi * (self.radius ** 3)\n",
        "        return volume\n",
        "\n",
        "    def get_volume(self):\n",
        "        \"\"\"\n",
        "        Public method to access the volume calculation.\n",
        "        \"\"\"\n",
        "        return self.__calculate_volume()\n",
        "\n",
        "# Prompt the user to input the radius\n",
        "try:\n",
        "    radius_input = int(input(\"Enter the radius of the sphere as a positive integer: \"))\n",
        "\n",
        "    # Create an instance of Sphere with the user input\n",
        "    my_sphere = Sphere(radius_input)\n",
        "\n",
        "    # Calculate and print the volume of the sphere\n",
        "    volume = my_sphere.get_volume()\n",
        "\n",
        "\n",
        "\n",
        "except ValueError as ve:\n",
        "    print(f\"Input error: {ve}\")"
      ],
      "metadata": {
        "id": "ZmkvUsBtR7Jn",
        "colab": {
          "base_uri": "https://localhost:8080/"
        },
        "outputId": "1f203452-9503-40a7-d04a-313b1473dff7"
      },
      "execution_count": null,
      "outputs": [
        {
          "name": "stdout",
          "output_type": "stream",
          "text": [
            "Enter the radius of the sphere as a positive integer: 6\n"
          ]
        }
      ]
    },
    {
      "cell_type": "code",
      "source": [
        "# Print result here.\n",
        "print(f\"The volume of the sphere with radius {radius_input}cm is {volume:.2f} cm³\")\n",
        "\n"
      ],
      "metadata": {
        "id": "DZPF9vMKR8oW",
        "colab": {
          "base_uri": "https://localhost:8080/"
        },
        "outputId": "8a087585-febf-4d62-f6ae-85d9ded77738"
      },
      "execution_count": null,
      "outputs": [
        {
          "output_type": "stream",
          "name": "stdout",
          "text": [
            "The volume of the sphere with radius 6.0cm is 904.78 cm³\n"
          ]
        }
      ]
    },
    {
      "cell_type": "markdown",
      "source": [
        "***Question 5:*** Create a class that defines a cylinder. The class should inherit from the class created in **Question 4** above, have a property that defines length and an encapsulated function that calculates and returns the volume of a cylinder (volume = pi * radius^2 * length). The class should accept radius and length as parameters. Print your results. (5 marks)"
      ],
      "metadata": {
        "id": "XwhN5lUaR_S-"
      }
    },
    {
      "cell_type": "code",
      "source": [
        "# Show logic here.\n",
        "class Sphere:\n",
        "    def __init__(self, radius):\n",
        "        \"\"\"\n",
        "        Initialize the Sphere object with the given radius.\n",
        "        \"\"\"\n",
        "        # Validate radius is a positive number\n",
        "        if not isinstance(radius, (int, float)):\n",
        "            raise ValueError(\"Radius must be a number.\")\n",
        "        if radius <= 0:\n",
        "            raise ValueError(\"Radius must be positive.\")\n",
        "\n",
        "        self.radius = radius  # Set radius property\n",
        "\n",
        "    def __calculate_volume(self):\n",
        "        \"\"\"\n",
        "        Private method to calculate the volume of a sphere:\n",
        "        Volume = (4/3) * π * radius^3\n",
        "        \"\"\"\n",
        "        return (4/3) * math.pi * (self.radius ** 3)\n",
        "\n",
        "    def get_volume(self):\n",
        "        \"\"\"\n",
        "        Public method to access the sphere volume.\n",
        "        \"\"\"\n",
        "        return self.__calculate_volume()\n",
        "\n",
        "\n",
        "class Cylinder(Sphere):\n",
        "    def __init__(self, radius, length):\n",
        "        \"\"\"\n",
        "        Initialize Cylinder object inheriting from Sphere.\n",
        "        Accepts radius and length parameters.\n",
        "        \"\"\"\n",
        "        # Initialize radius using the parent Sphere class constructor\n",
        "        super().__init__(radius)\n",
        "\n",
        "        # Validate length is a positive number\n",
        "        if not isinstance(length, (int, float)):\n",
        "            raise ValueError(\"Length must be a number.\")\n",
        "        if length <= 0:\n",
        "            raise ValueError(\"Length must be positive.\")\n",
        "\n",
        "        self.length = length  # Set length property\n",
        "\n",
        "    def __calculate_volume(self):\n",
        "        \"\"\"\n",
        "        Private method to calculate the volume of the cylinder:\n",
        "        Volume = π * radius^2 * length\n",
        "        \"\"\"\n",
        "        return math.pi * (self.radius ** 2) * self.length\n",
        "\n",
        "    def get_volume(self):\n",
        "        \"\"\"\n",
        "        Public method to access the cylinder volume.\n",
        "        \"\"\"\n",
        "        return self.__calculate_volume()\n",
        "\n",
        "\n",
        "# Prompt user input for radius and length\n",
        "try:\n",
        "    radius_input = float(input(\"Enter the radius of the cylinder as a positive number: \"))\n",
        "    length_input = float(input(\"Enter the length of the cylinder as a positive number: \"))\n",
        "\n",
        "    # Create Cylinder instance with user inputs\n",
        "    my_cylinder = Cylinder(radius_input, length_input)\n",
        "\n",
        "    # Calculate and print the volume of the cylinder\n",
        "    volume = my_cylinder.get_volume()\n",
        "\n",
        "\n",
        "except ValueError as ve:\n",
        "    print(f\"Input error: {ve}\")\n"
      ],
      "metadata": {
        "id": "XjvNz_q6SB9J",
        "colab": {
          "base_uri": "https://localhost:8080/"
        },
        "outputId": "462ffca8-89cc-481a-8310-0055a4a89518"
      },
      "execution_count": null,
      "outputs": [
        {
          "name": "stdout",
          "output_type": "stream",
          "text": [
            "Enter the radius of the cylinder as a positive number: 4\n",
            "Enter the length of the cylinder as a positive number: 6\n"
          ]
        }
      ]
    },
    {
      "cell_type": "code",
      "source": [
        "# Print result here.\n",
        "print(f\"The volume of the cylinder with radius {radius_input}cm and length {length_input}cm is {volume:.2f}cm³\")\n",
        "\n"
      ],
      "metadata": {
        "id": "gQnjR8VSSDei",
        "colab": {
          "base_uri": "https://localhost:8080/"
        },
        "outputId": "6e3e179d-ed96-496e-d7b4-d183add463e5"
      },
      "execution_count": null,
      "outputs": [
        {
          "output_type": "stream",
          "name": "stdout",
          "text": [
            "The volume of the cylinder with radius 4.0cm and length 6.0cm is 301.59cm³\n"
          ]
        }
      ]
    },
    {
      "cell_type": "markdown",
      "source": [
        "***Question 6:*** Create a function that uses the sphere as defined in **Question 4** to determine how many spheres would fit inside a cylinder as defined in **Question 5**. The function should return the result as a whole number. Bear in mind the radius of the sphere cannot be greater than that of the cylinder. Print your result. (5 Marks)"
      ],
      "metadata": {
        "id": "ZOoyCiPTSLEw"
      }
    },
    {
      "cell_type": "code",
      "source": [
        "#Show logic here\n",
        "def sphere_volume(radius):\n",
        "    \"\"\"Calculate the volume of a sphere given its radius.\"\"\"\n",
        "    return (4/3) * math.pi * (radius ** 3)\n",
        "\n",
        "def cylinder_volume(radius, height):\n",
        "    \"\"\"Calculate the volume of a cylinder given its radius and height.\"\"\"\n",
        "    return math.pi * (radius ** 2) * height\n",
        "\n",
        "def spheres_in_cylinder(sphere_radius, cylinder_radius, cylinder_height):\n",
        "    \"\"\"Determine how many spheres fit inside a cylinder.\"\"\"\n",
        "    # Check if the sphere can fit inside the cylinder\n",
        "    if sphere_radius > cylinder_radius:\n",
        "        return 0  # Sphere cannot fit inside the cylinder\n",
        "\n",
        "    # Calculate volumes\n",
        "    sphere_vol = sphere_volume(sphere_radius)\n",
        "    cylinder_vol = cylinder_volume(cylinder_radius, cylinder_height)\n",
        "\n",
        "    # Calculate how many spheres fit in the cylinder\n",
        "    num_spheres = cylinder_vol // sphere_vol  # Use floor division for whole number\n",
        "\n",
        "    return int(num_spheres)\n",
        "\n",
        "# Example usage\n",
        "sphere_radius = 3  # Example radius of the sphere\n",
        "cylinder_radius = 5  # Example radius of the cylinder\n",
        "cylinder_height = 10  # Example height of the cylinder\n",
        "\n",
        "result = spheres_in_cylinder(sphere_radius, cylinder_radius, cylinder_height)\n",
        "\n",
        "\n"
      ],
      "metadata": {
        "id": "4qxhj-3qSMeE"
      },
      "execution_count": null,
      "outputs": []
    },
    {
      "cell_type": "code",
      "source": [
        "# Print result here.\n",
        "print(f\"Number of spheres that fit in the cylinder: {result}\")\n"
      ],
      "metadata": {
        "id": "8W0Bfxk_SOGP",
        "colab": {
          "base_uri": "https://localhost:8080/"
        },
        "outputId": "be13707b-8d07-46bd-ccdd-0bd348e06841"
      },
      "execution_count": null,
      "outputs": [
        {
          "output_type": "stream",
          "name": "stdout",
          "text": [
            "Number of spheres that fit in the cylinder: 6\n"
          ]
        }
      ]
    },
    {
      "cell_type": "markdown",
      "source": [
        "***Question 7:***\n",
        "I have defined three Python lists with words in each of them. Create a funciton that uses one word from each list to create a logically sound and grammatically correct sentence. Each word from either list may only be used once - once a word is used in a sentence it cannot be used in another sentence. Print out your result. (5 Marks)"
      ],
      "metadata": {
        "id": "bopSm2hgRAqP"
      }
    },
    {
      "cell_type": "code",
      "source": [
        "# Show logic here.\n",
        "import random\n",
        "# Define the lists\n",
        "colours = ['red', 'blue', 'green']\n",
        "vehicles = ['car', 'bicycle', 'tractor']\n",
        "adjectives = ['fast', 'slow', 'cool']\n",
        "\n",
        "def create_sentence(colours, vehicles, adjectives):\n",
        "    \"\"\"Create a grammatically correct sentence using one word from each list.\"\"\"\n",
        "    if not colours or not vehicles or not adjectives:\n",
        "        return \"Not enough words to create a sentence.\"\n",
        "\n",
        "    # Randomly select one word from each list\n",
        "    colour = random.choice(colours)\n",
        "    vehicle = random.choice(vehicles)\n",
        "    adjective = random.choice(adjectives)\n",
        "\n",
        "    # Construct the sentence\n",
        "    sentence = f\"The {adjective} {colour} {vehicle}.\"\n",
        "\n",
        "    # Remove the used words from the lists\n",
        "    colours.remove(colour)\n",
        "    vehicles.remove(vehicle)\n",
        "    adjectives.remove(adjective)\n",
        "\n",
        "    return sentence\n",
        "\n",
        "# Example usage\n",
        "sentence = create_sentence(colours, vehicles, adjectives)\n",
        "\n",
        "\n",
        "\n",
        "\n"
      ],
      "metadata": {
        "id": "y4ebmFQDRDcp",
        "colab": {
          "base_uri": "https://localhost:8080/"
        },
        "outputId": "d2cc855a-6177-4696-a198-373dffbe21ed"
      },
      "execution_count": null,
      "outputs": [
        {
          "output_type": "stream",
          "name": "stdout",
          "text": [
            "The fast blue car.\n"
          ]
        }
      ]
    },
    {
      "cell_type": "code",
      "source": [
        "# Print result here.\n",
        "# Print remaining words in the lists\n",
        "print(sentence)\n",
        "print(\"Remaining colours:\", colours)\n",
        "print(\"Remaining vehicles:\", vehicles)\n",
        "print(\"Remaining adjectives:\", adjectives)\n"
      ],
      "metadata": {
        "id": "JRNWoaHFRFDp",
        "colab": {
          "base_uri": "https://localhost:8080/"
        },
        "outputId": "c94ee353-a4aa-4ce6-e842-7915492bcb0c"
      },
      "execution_count": null,
      "outputs": [
        {
          "output_type": "stream",
          "name": "stdout",
          "text": [
            "The fast blue car.\n",
            "Remaining colours: ['red', 'green']\n",
            "Remaining vehicles: ['bicycle', 'tractor']\n",
            "Remaining adjectives: ['slow', 'cool']\n"
          ]
        }
      ]
    },
    {
      "cell_type": "markdown",
      "source": [
        "***Question 8:*** Create a function that accepts a list of salaries and calculates the taxes and net pay associated with that salary. The tax rates are defined as follows: a person earning 600,000 or more pays 43% tax, a person earning 400,000 or more but less than 600,000 pays 33% tax, a person earning 200,000 or more but less than 400,000 pays 23% tax and someone earning less than 200,000 pays 13% tax. Net Pay is equal to gross pay minus tax. The function should print a statement that describes how much tax and what the net pay is for each salary in the list. (5 marks)"
      ],
      "metadata": {
        "id": "J0sMr8v8RKSV"
      }
    },
    {
      "cell_type": "code",
      "source": [
        "# Show logic here.\n",
        "def calculate_taxes_and_net_pay():\n",
        "    \"\"\"Accept salaries as input, calculate taxes and net pay, and print results formatted with commas.\"\"\"\n",
        "    salaries_input = input(\"Enter salary: \")\n",
        "    # Parse input into a list of integers, removing spaces\n",
        "    salaries = [int(salary.strip()) for salary in salaries_input.split(',') if salary.strip().isdigit()]\n",
        "\n",
        "    for salary in salaries:\n",
        "        if salary >= 600000:\n",
        "            tax_rate = 0.43\n",
        "        elif salary >= 400000:\n",
        "            tax_rate = 0.33\n",
        "        elif salary >= 200000:\n",
        "            tax_rate = 0.23\n",
        "        else:\n",
        "            tax_rate = 0.13\n",
        "            tax = salary * tax_rate\n",
        "            net_pay = salary - tax\n",
        "\n",
        "        # Print formatted with commas\n",
        "        print(f\"For a salary of UGX {salary:,} and the tax is UGX {tax:,.2f} and the net pay is UGX {net_pay:,.2f}.\")\n",
        "\n",
        "\n",
        "\n",
        "\n",
        "\n"
      ],
      "metadata": {
        "id": "VZgJOSWZRMm2"
      },
      "execution_count": 18,
      "outputs": []
    },
    {
      "cell_type": "code",
      "source": [
        "# Print result here.\n",
        "calculate_taxes_and_net_pay()\n",
        "\n",
        "\n"
      ],
      "metadata": {
        "id": "hNxk52kmRQBX",
        "colab": {
          "base_uri": "https://localhost:8080/"
        },
        "outputId": "30100c9a-7ad1-45da-9da7-1895738e9750"
      },
      "execution_count": 19,
      "outputs": [
        {
          "output_type": "stream",
          "name": "stdout",
          "text": [
            "Enter salary: 45677\n",
            "For a salary of UGX 45,677 and the tax is UGX 5,938.01 and the net pay is UGX 39,738.99.\n"
          ]
        }
      ]
    },
    {
      "cell_type": "markdown",
      "source": [
        "***Question 9:*** Write a function that determines the Grade of a student. The grade are distinguished as follows: A student is graded A for scoring 90 or more marks, graded B for scoring 80 or more but less than 90, graded C for scoring 70 or more but less than 80, graded D for scoring 60 or more but less than 70 and is graded F for scoring less than 60. The function should take the score as a parameter. In the code box where you shall print your answer, the score must be user input and not hard-coded into the source-code. Print out your result. (5 Marks)"
      ],
      "metadata": {
        "id": "KZeRTw1QRUU0"
      }
    },
    {
      "cell_type": "code",
      "source": [
        "#Show logic here\n",
        "def determine_grade(score):\n",
        "    \"\"\"Determine the grade based on the score.\"\"\"\n",
        "    if score >= 90:\n",
        "        return 'A'\n",
        "    elif score >= 80:\n",
        "        return 'B'\n",
        "    elif score >= 70:\n",
        "        return 'C'\n",
        "    elif score >= 60:\n",
        "        return 'D'\n",
        "    else:\n",
        "        return 'F'\n",
        "\n",
        "while True:\n",
        "    try:\n",
        "        user_input = input(\"Enter the score (0-100): \")\n",
        "        user_score = int(user_input)\n",
        "        if 0 <= user_score <= 100:\n",
        "            grade = determine_grade(user_score)\n",
        "\n",
        "\n",
        "\n",
        "            break\n",
        "        else:\n",
        "            print(\"Error: Please enter an integer between 0 and 100.\")\n",
        "    except ValueError:\n",
        "        print(\"Error: Please enter a valid integer.\")\n",
        "\n"
      ],
      "metadata": {
        "id": "w41m0tN8RWEp",
        "colab": {
          "base_uri": "https://localhost:8080/"
        },
        "outputId": "59bd201d-9620-4009-92dd-aa813779e978"
      },
      "execution_count": 26,
      "outputs": [
        {
          "name": "stdout",
          "output_type": "stream",
          "text": [
            "Enter the score (0-100): 56\n"
          ]
        }
      ]
    },
    {
      "cell_type": "code",
      "source": [
        "# Print result here.\n",
        "print(f\"The grade for a score of {user_score}% is: {grade}\")\n"
      ],
      "metadata": {
        "id": "crADaPr-RXnH",
        "colab": {
          "base_uri": "https://localhost:8080/"
        },
        "outputId": "c0c9638a-7071-4da6-fe1e-158a949ccda1"
      },
      "execution_count": 28,
      "outputs": [
        {
          "output_type": "stream",
          "name": "stdout",
          "text": [
            "The grade for a score of 56% is: F\n"
          ]
        }
      ]
    },
    {
      "cell_type": "markdown",
      "source": [
        "***Question 10:*** Write a function that returns a **list** of factors for any given number. The number in question must be passed to the function as a parameter. Print out your result. (5 Marks)"
      ],
      "metadata": {
        "id": "aZIfb7SFRcFX"
      }
    },
    {
      "cell_type": "code",
      "source": [
        "# Show logic here.\n",
        "def find_factors(number):\n",
        "    \"\"\"Return a list of factors for the given number.\"\"\"\n",
        "    factors = []\n",
        "    for i in range(1, number + 1):\n",
        "        if number % i == 0:\n",
        "            factors.append(i)\n",
        "    return factors\n",
        "\n",
        "# Get user input for the number\n",
        "try:\n",
        "    user_input = int(input(\"Enter a number to find its factors: \"))\n",
        "    if user_input > 0:\n",
        "        factors = find_factors(user_input)\n",
        "\n",
        "    else:\n",
        "        print(\"Please enter a positive integer.\")\n",
        "except ValueError:\n",
        "    print(\"Please enter a valid integer.\")\n",
        "\n"
      ],
      "metadata": {
        "id": "Z1awxYNVRdZn",
        "colab": {
          "base_uri": "https://localhost:8080/"
        },
        "outputId": "0371d430-b400-4a29-f6b6-5b2db5961602"
      },
      "execution_count": null,
      "outputs": [
        {
          "output_type": "stream",
          "name": "stdout",
          "text": [
            "Enter a number to find its factors: 3\n",
            "The factors of 3 are: [1, 3]\n"
          ]
        }
      ]
    },
    {
      "cell_type": "code",
      "source": [
        "# Print result here.\n",
        "print(f\"The factors of {user_input} are: {factors}\")\n"
      ],
      "metadata": {
        "id": "QxndcWZKRem8",
        "colab": {
          "base_uri": "https://localhost:8080/"
        },
        "outputId": "4abb5d16-c865-4511-a2be-c5f2578d8c4c"
      },
      "execution_count": null,
      "outputs": [
        {
          "output_type": "stream",
          "name": "stdout",
          "text": [
            "The factors of 3 are: [1, 3]\n"
          ]
        }
      ]
    },
    {
      "cell_type": "markdown",
      "source": [
        "***Question 11:*** Create a function that calculates the prime numbers within any given range of numbers. This function must receive the lowest and highest points as parameters. The function must ensure that the lowest point isnt't greater than the highest point. In the print box, the lowest and highest points of the range must be input by a user. Print your result as a **list** and assign it to a local variable. [Hint: All prime numbers are greater than 1, (Except 2) All prime numbers are odd, All prime numbers have only 2 factors; 1 & the number itself, make use of the function you created in **Question 10**] (5 marks)"
      ],
      "metadata": {
        "id": "JHa-qi1lRi9g"
      }
    },
    {
      "cell_type": "code",
      "source": [
        "# Show logic here.\n",
        "\n",
        "def find_factors(number):\n",
        "    \"\"\"Return a list of factors for the given number.\"\"\"\n",
        "    factors = []\n",
        "    for i in range(1, number + 1):\n",
        "        if number % i == 0:\n",
        "            factors.append(i)\n",
        "    return factors\n",
        "\n",
        "def calculate_primes_in_range(low, high):\n",
        "    \"\"\"Calculate prime numbers within the given range.\"\"\"\n",
        "    if low > high:\n",
        "        raise ValueError(\"The lowest point must not be greater than the highest point.\")\n",
        "\n",
        "    primes = []\n",
        "    for num in range(max(2, low), high + 1):  # Start from 2 or low, whichever is greater\n",
        "        if len(find_factors(num)) == 2:  # A prime number has exactly 2 factors\n",
        "            primes.append(num)\n",
        "    return primes\n",
        "\n",
        "# Get user input for the range\n",
        "numbers = []\n",
        "print(\"Enter numbers for the range (type 'done' when finished):\")\n",
        "\n",
        "while True:\n",
        "    user_input = input(\"Enter a number: \")\n",
        "    if user_input.lower() == \"done\":\n",
        "        break\n",
        "    try:\n",
        "        number = int(user_input)\n",
        "        numbers.append(number)\n",
        "    except ValueError:\n",
        "        print(\"Please enter a valid integer.\")\n",
        "\n",
        "if len(numbers) < 2:\n",
        "    print(\"Please enter at least two numbers to define a range.\")\n",
        "else:\n",
        "    lowest = min(numbers)\n",
        "    highest = max(numbers)\n",
        "\n",
        "    try:\n",
        "        prime_numbers = calculate_primes_in_range(lowest, highest)\n",
        "\n",
        "    except ValueError as e:\n",
        "        print(f\"Error: {e}\")\n"
      ],
      "metadata": {
        "id": "fMZmIJCTRklo",
        "colab": {
          "base_uri": "https://localhost:8080/"
        },
        "outputId": "e4c39bf4-1708-4ca8-cf51-33a0f0e78fda"
      },
      "execution_count": 29,
      "outputs": [
        {
          "name": "stdout",
          "output_type": "stream",
          "text": [
            "Enter numbers for the range (type 'done' when finished):\n",
            "Enter a number: 45\n",
            "Enter a number: 78\n",
            "Enter a number: done\n"
          ]
        }
      ]
    },
    {
      "cell_type": "code",
      "source": [
        "# Print result here.\n",
        "print(f\"The prime numbers between {lowest} and {highest} are: {prime_numbers}\")\n"
      ],
      "metadata": {
        "id": "Oj7No9ieRmMz",
        "colab": {
          "base_uri": "https://localhost:8080/"
        },
        "outputId": "5fab2895-3a21-4117-ffe2-114ce13e84e1"
      },
      "execution_count": 30,
      "outputs": [
        {
          "output_type": "stream",
          "name": "stdout",
          "text": [
            "The prime numbers between 45 and 78 are: [47, 53, 59, 61, 67, 71, 73]\n"
          ]
        }
      ]
    },
    {
      "cell_type": "markdown",
      "source": [
        "***Question 12:*** Create a function that inputs the local variable created in **Question 11** as a parameter to perform basic statistics on it. The function must determine the number of items in the list, the sum of all the items in the list, the product of all the items in the list and the mean of all the items in the list. The function should print the results in clear and concise statements. (5 Marks)"
      ],
      "metadata": {
        "id": "QhvNGKe_Rqf0"
      }
    },
    {
      "cell_type": "code",
      "source": [
        "#Show logic here\n",
        "def find_factors(number):\n",
        "    \"\"\"Return a list of factors for the given number.\"\"\"\n",
        "    factors = []\n",
        "    for i in range(1, number + 1):\n",
        "        if number % i == 0:\n",
        "            factors.append(i)\n",
        "    return factors\n",
        "\n",
        "def calculate_primes_in_range(low, high):\n",
        "    \"\"\"Calculate prime numbers within the given range.\"\"\"\n",
        "    if low > high:\n",
        "        raise ValueError(\"The lowest point must not be greater than the highest point.\")\n",
        "\n",
        "    primes = []\n",
        "    for num in range(max(2, low), high + 1):\n",
        "        if len(find_factors(num)) == 2:\n",
        "            primes.append(num)\n",
        "    return primes\n",
        "\n",
        "def basic_statistics(numbers):\n",
        "    \"\"\"Calculate and print basic statistics for a list of numbers.\"\"\"\n",
        "    if not numbers:\n",
        "        print(\"The list is empty. No statistics to display.\")\n",
        "        return\n",
        "\n",
        "    count = len(numbers)\n",
        "    total_sum = sum(numbers)\n",
        "    product = 1\n",
        "    for num in numbers:\n",
        "        product *= num\n",
        "    mean = total_sum / count\n",
        "\n",
        "    print(f\"Number of items: {count}\")\n",
        "    print(f\"Sum of all items: {total_sum}\")\n",
        "    print(f\"Product of all items: {product}\")\n",
        "    print(f\"Mean of all items: {mean:.2f}\")\n",
        "\n",
        "print(\"Enter numbers to define the range (type 'done' when finished):\")\n",
        "numbers = []\n",
        "\n",
        "while True:\n",
        "    user_input = input(\"Enter a number (or 'done'): \")\n",
        "    if user_input.lower() == \"done\":\n",
        "        break\n",
        "    try:\n",
        "        num = int(user_input)\n",
        "        numbers.append(num)\n",
        "    except ValueError:\n",
        "        print(\"Please enter a valid integer.\")\n",
        "\n",
        "if len(numbers) < 2:\n",
        "    print(\"Please enter at least two numbers to define a range.\")\n",
        "else:\n",
        "    lowest = min(numbers)\n",
        "    highest = max(numbers)\n",
        "    try:\n",
        "        prime_numbers = calculate_primes_in_range(lowest, highest)\n",
        "        print(f\"The prime numbers between {lowest} and {highest} are: {prime_numbers}\")\n",
        "\n",
        "    except ValueError as e:\n",
        "        print(f\"Error: {e}\")"
      ],
      "metadata": {
        "id": "FTO62QF9Rryb",
        "colab": {
          "base_uri": "https://localhost:8080/"
        },
        "outputId": "96e21d95-5488-439b-bb27-4571f59242f1"
      },
      "execution_count": 33,
      "outputs": [
        {
          "output_type": "stream",
          "name": "stdout",
          "text": [
            "Enter numbers to define the range (type 'done' when finished):\n",
            "Enter a number (or 'done'): 5\n",
            "Enter a number (or 'done'): 8\n",
            "Enter a number (or 'done'): done\n",
            "The prime numbers between 5 and 8 are: [5, 7]\n"
          ]
        }
      ]
    },
    {
      "cell_type": "code",
      "source": [
        "#Print result here.\n",
        "basic_statistics(prime_numbers)\n",
        "\n",
        "\n"
      ],
      "metadata": {
        "id": "-neNxOpYRtL6",
        "colab": {
          "base_uri": "https://localhost:8080/"
        },
        "outputId": "8335ba58-3bcb-42e0-f249-74101f7c27ad"
      },
      "execution_count": 34,
      "outputs": [
        {
          "output_type": "stream",
          "name": "stdout",
          "text": [
            "Number of items: 2\n",
            "Sum of all items: 12\n",
            "Product of all items: 35\n",
            "Mean of all items: 6.00\n"
          ]
        }
      ]
    }
  ]
}